{
 "cells": [
  {
   "cell_type": "markdown",
   "metadata": {},
   "source": [
    "## Interactive Shell"
   ]
  },
  {
   "cell_type": "code",
   "execution_count": 1,
   "metadata": {},
   "outputs": [],
   "source": [
    "from IPython.core.interactiveshell import InteractiveShell\n",
    "InteractiveShell.ast_node_interactivity = \"all\""
   ]
  },
  {
   "cell_type": "code",
   "execution_count": 2,
   "metadata": {},
   "outputs": [
    {
     "name": "stdout",
     "output_type": "stream",
     "text": [
      "hello\n",
      "hi\n"
     ]
    }
   ],
   "source": [
    "print(\"hello\")\n",
    "print(\"hi\")"
   ]
  },
  {
   "cell_type": "markdown",
   "metadata": {},
   "source": [
    "## List of Variables"
   ]
  },
  {
   "cell_type": "code",
   "execution_count": 3,
   "metadata": {},
   "outputs": [
    {
     "name": "stdout",
     "output_type": "stream",
     "text": [
      "Variable           Type             Data/Info\n",
      "---------------------------------------------\n",
      "InteractiveShell   MetaHasTraits    <class 'IPython.core.inte<...>eshell.InteractiveShell'>\n"
     ]
    }
   ],
   "source": [
    "%whos"
   ]
  },
  {
   "cell_type": "code",
   "execution_count": 5,
   "metadata": {},
   "outputs": [
    {
     "name": "stdout",
     "output_type": "stream",
     "text": [
      "Collecting jupyter-tabnine\n",
      "  Downloading https://files.pythonhosted.org/packages/ed/5f/ef8cf41db5f271892c71ec851d8dcfa48d4e1c4132531c26a2d86787dfbc/jupyter_tabnine-1.1.0-py2.py3-none-any.whl\n",
      "Requirement already satisfied: jupyter-core in c:\\users\\win10\\appdata\\local\\programs\\python\\python37\\lib\\site-packages (from jupyter-tabnine) (4.4.0)\n",
      "Requirement already satisfied: nbconvert in c:\\users\\win10\\appdata\\local\\programs\\python\\python37\\lib\\site-packages (from jupyter-tabnine) (5.5.0)\n",
      "Requirement already satisfied: notebook>=4.2 in c:\\users\\win10\\appdata\\local\\programs\\python\\python37\\lib\\site-packages (from jupyter-tabnine) (5.7.8)\n",
      "Requirement already satisfied: ipython in c:\\users\\win10\\appdata\\local\\programs\\python\\python37\\lib\\site-packages (from jupyter-tabnine) (7.5.0)\n",
      "Requirement already satisfied: traitlets in c:\\users\\win10\\appdata\\local\\programs\\python\\python37\\lib\\site-packages (from jupyter-core->jupyter-tabnine) (4.3.2)\n",
      "Requirement already satisfied: pandocfilters>=1.4.1 in c:\\users\\win10\\appdata\\local\\programs\\python\\python37\\lib\\site-packages (from nbconvert->jupyter-tabnine) (1.4.2)\n",
      "Requirement already satisfied: bleach in c:\\users\\win10\\appdata\\local\\programs\\python\\python37\\lib\\site-packages (from nbconvert->jupyter-tabnine) (1.5.0)\n",
      "Requirement already satisfied: mistune>=0.8.1 in c:\\users\\win10\\appdata\\local\\programs\\python\\python37\\lib\\site-packages (from nbconvert->jupyter-tabnine) (0.8.4)\n",
      "Requirement already satisfied: jinja2>=2.4 in c:\\users\\win10\\appdata\\local\\programs\\python\\python37\\lib\\site-packages (from nbconvert->jupyter-tabnine) (2.10.1)\n",
      "Requirement already satisfied: nbformat>=4.4 in c:\\users\\win10\\appdata\\local\\programs\\python\\python37\\lib\\site-packages (from nbconvert->jupyter-tabnine) (4.4.0)\n",
      "Requirement already satisfied: testpath in c:\\users\\win10\\appdata\\local\\programs\\python\\python37\\lib\\site-packages (from nbconvert->jupyter-tabnine) (0.4.2)\n",
      "Requirement already satisfied: pygments in c:\\users\\win10\\appdata\\local\\programs\\python\\python37\\lib\\site-packages (from nbconvert->jupyter-tabnine) (2.4.2)\n",
      "Requirement already satisfied: entrypoints>=0.2.2 in c:\\users\\win10\\appdata\\local\\programs\\python\\python37\\lib\\site-packages (from nbconvert->jupyter-tabnine) (0.3)\n",
      "Requirement already satisfied: defusedxml in c:\\users\\win10\\appdata\\local\\programs\\python\\python37\\lib\\site-packages (from nbconvert->jupyter-tabnine) (0.6.0)\n",
      "Requirement already satisfied: Send2Trash in c:\\users\\win10\\appdata\\local\\programs\\python\\python37\\lib\\site-packages (from notebook>=4.2->jupyter-tabnine) (1.5.0)\n",
      "Requirement already satisfied: prometheus-client in c:\\users\\win10\\appdata\\local\\programs\\python\\python37\\lib\\site-packages (from notebook>=4.2->jupyter-tabnine) (0.6.0)\n",
      "Requirement already satisfied: ipython-genutils in c:\\users\\win10\\appdata\\local\\programs\\python\\python37\\lib\\site-packages (from notebook>=4.2->jupyter-tabnine) (0.2.0)\n",
      "Requirement already satisfied: terminado>=0.8.1 in c:\\users\\win10\\appdata\\local\\programs\\python\\python37\\lib\\site-packages (from notebook>=4.2->jupyter-tabnine) (0.8.2)\n",
      "Requirement already satisfied: tornado<7,>=4.1 in c:\\users\\win10\\appdata\\local\\programs\\python\\python37\\lib\\site-packages (from notebook>=4.2->jupyter-tabnine) (6.0.2)\n",
      "Requirement already satisfied: jupyter-client>=5.2.0 in c:\\users\\win10\\appdata\\local\\programs\\python\\python37\\lib\\site-packages (from notebook>=4.2->jupyter-tabnine) (5.2.4)\n",
      "Requirement already satisfied: pyzmq>=17 in c:\\users\\win10\\appdata\\local\\programs\\python\\python37\\lib\\site-packages (from notebook>=4.2->jupyter-tabnine) (18.0.1)\n",
      "Requirement already satisfied: ipykernel in c:\\users\\win10\\appdata\\local\\programs\\python\\python37\\lib\\site-packages (from notebook>=4.2->jupyter-tabnine) (5.1.1)\n",
      "Requirement already satisfied: jedi>=0.10 in c:\\users\\win10\\appdata\\local\\programs\\python\\python37\\lib\\site-packages (from ipython->jupyter-tabnine) (0.13.3)\n",
      "Requirement already satisfied: prompt-toolkit<2.1.0,>=2.0.0 in c:\\users\\win10\\appdata\\local\\programs\\python\\python37\\lib\\site-packages (from ipython->jupyter-tabnine) (2.0.9)\n",
      "Requirement already satisfied: colorama; sys_platform == \"win32\" in c:\\users\\win10\\appdata\\local\\programs\\python\\python37\\lib\\site-packages (from ipython->jupyter-tabnine) (0.4.1)\n",
      "Requirement already satisfied: setuptools>=18.5 in c:\\users\\win10\\appdata\\roaming\\python\\python37\\site-packages (from ipython->jupyter-tabnine) (41.0.1)\n",
      "Requirement already satisfied: pickleshare in c:\\users\\win10\\appdata\\local\\programs\\python\\python37\\lib\\site-packages (from ipython->jupyter-tabnine) (0.7.5)\n",
      "Requirement already satisfied: backcall in c:\\users\\win10\\appdata\\local\\programs\\python\\python37\\lib\\site-packages (from ipython->jupyter-tabnine) (0.1.0)\n",
      "Requirement already satisfied: decorator in c:\\users\\win10\\appdata\\local\\programs\\python\\python37\\lib\\site-packages (from ipython->jupyter-tabnine) (4.0.11)\n",
      "Requirement already satisfied: six in c:\\users\\win10\\appdata\\local\\programs\\python\\python37\\lib\\site-packages (from traitlets->jupyter-core->jupyter-tabnine) (1.10.0)\n",
      "Requirement already satisfied: html5lib!=0.9999,!=0.99999,<0.99999999,>=0.999 in c:\\users\\win10\\appdata\\local\\programs\\python\\python37\\lib\\site-packages (from bleach->nbconvert->jupyter-tabnine) (0.9999999)\n",
      "Requirement already satisfied: MarkupSafe>=0.23 in c:\\users\\win10\\appdata\\local\\programs\\python\\python37\\lib\\site-packages (from jinja2>=2.4->nbconvert->jupyter-tabnine) (1.1.1)\n",
      "Requirement already satisfied: jsonschema!=2.5.0,>=2.4 in c:\\users\\win10\\appdata\\local\\programs\\python\\python37\\lib\\site-packages (from nbformat>=4.4->nbconvert->jupyter-tabnine) (3.0.1)\n",
      "Requirement already satisfied: pywinpty>=0.5; os_name == \"nt\" in c:\\users\\win10\\appdata\\local\\programs\\python\\python37\\lib\\site-packages (from terminado>=0.8.1->notebook>=4.2->jupyter-tabnine) (0.5.5)\n",
      "Requirement already satisfied: python-dateutil>=2.1 in c:\\users\\win10\\appdata\\local\\programs\\python\\python37\\lib\\site-packages (from jupyter-client>=5.2.0->notebook>=4.2->jupyter-tabnine) (2.8.0)\n",
      "Requirement already satisfied: parso>=0.3.0 in c:\\users\\win10\\appdata\\local\\programs\\python\\python37\\lib\\site-packages (from jedi>=0.10->ipython->jupyter-tabnine) (0.4.0)\n",
      "Requirement already satisfied: wcwidth in c:\\users\\win10\\appdata\\local\\programs\\python\\python37\\lib\\site-packages (from prompt-toolkit<2.1.0,>=2.0.0->ipython->jupyter-tabnine) (0.1.7)\n",
      "Requirement already satisfied: pyrsistent>=0.14.0 in c:\\users\\win10\\appdata\\local\\programs\\python\\python37\\lib\\site-packages (from jsonschema!=2.5.0,>=2.4->nbformat>=4.4->nbconvert->jupyter-tabnine) (0.15.2)\n",
      "Requirement already satisfied: attrs>=17.4.0 in c:\\users\\win10\\appdata\\local\\programs\\python\\python37\\lib\\site-packages (from jsonschema!=2.5.0,>=2.4->nbformat>=4.4->nbconvert->jupyter-tabnine) (18.2.0)\n",
      "Installing collected packages: jupyter-tabnine\n",
      "Successfully installed jupyter-tabnine-1.1.0\n"
     ]
    },
    {
     "name": "stderr",
     "output_type": "stream",
     "text": [
      "WARNING: You are using pip version 19.2.2, however version 20.1.1 is available.\n",
      "You should consider upgrading via the 'python -m pip install --upgrade pip' command.\n",
      "Installing c:\\users\\win10\\appdata\\local\\programs\\python\\python37\\lib\\site-packages\\jupyter_tabnine\\static -> jupyter_tabnine\n",
      "Making directory: C:\\ProgramData\\jupyter\\nbextensions\\jupyter_tabnine\\\n",
      "Copying: c:\\users\\win10\\appdata\\local\\programs\\python\\python37\\lib\\site-packages\\jupyter_tabnine\\static\\main.css -> C:\\ProgramData\\jupyter\\nbextensions\\jupyter_tabnine\\main.css\n",
      "Copying: c:\\users\\win10\\appdata\\local\\programs\\python\\python37\\lib\\site-packages\\jupyter_tabnine\\static\\main.js -> C:\\ProgramData\\jupyter\\nbextensions\\jupyter_tabnine\\main.js\n",
      "Copying: c:\\users\\win10\\appdata\\local\\programs\\python\\python37\\lib\\site-packages\\jupyter_tabnine\\static\\README.md -> C:\\ProgramData\\jupyter\\nbextensions\\jupyter_tabnine\\README.md\n",
      "Copying: c:\\users\\win10\\appdata\\local\\programs\\python\\python37\\lib\\site-packages\\jupyter_tabnine\\static\\tabnine.yaml -> C:\\ProgramData\\jupyter\\nbextensions\\jupyter_tabnine\\tabnine.yaml\n",
      "- Validating: ok\n",
      "\n",
      "    To initialize this nbextension in the browser every time the notebook (or other app) loads:\n",
      "    \n",
      "          jupyter nbextension enable jupyter_tabnine --py\n",
      "    \n",
      "Enabling notebook extension jupyter_tabnine/main...\n",
      "      - Validating: ok\n",
      "Enabling: jupyter_tabnine\n",
      "- Writing config: C:\\Users\\Win10\\.jupyter\n",
      "    - Validating...\n",
      "      jupyter_tabnine  ok\n"
     ]
    }
   ],
   "source": [
    "!pip uninstall jupyter-tabnine\n",
    "!jupyter nbextension install --py jupyter_tabnine\n",
    "!jupyter nbextension enable --py jupyter_tabnine\n",
    "!jupyter serverextension enable --py jupyter_tabnine"
   ]
  },
  {
   "cell_type": "code",
   "execution_count": null,
   "metadata": {},
   "outputs": [],
   "source": [
    "import numpy as np\n",
    "from keras.metrics import "
   ]
  }
 ],
 "metadata": {
  "kernelspec": {
   "display_name": "Python 3",
   "language": "python",
   "name": "python3"
  },
  "language_info": {
   "codemirror_mode": {
    "name": "ipython",
    "version": 3
   },
   "file_extension": ".py",
   "mimetype": "text/x-python",
   "name": "python",
   "nbconvert_exporter": "python",
   "pygments_lexer": "ipython3",
   "version": "3.7.3"
  }
 },
 "nbformat": 4,
 "nbformat_minor": 2
}
